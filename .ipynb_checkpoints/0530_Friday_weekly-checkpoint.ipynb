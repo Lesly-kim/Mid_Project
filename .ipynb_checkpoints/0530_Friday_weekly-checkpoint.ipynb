{
 "cells": [
  {
   "cell_type": "code",
   "execution_count": 6,
   "id": "3fcb8f89-1bc1-48a4-ab8c-8d6a1c12a146",
   "metadata": {},
   "outputs": [],
   "source": [
    "# 기본 라이브러리\n",
    "import numpy as np\n",
    "import pandas as pd\n",
    "import matplotlib.pyplot as plt\n",
    "import seaborn as sns\n",
    "\n",
    "# 그래프 기본 테마 설정\n",
    "# https://coldbrown.co.kr/2023/07/%ED%8C%8C%EC%9D%B4%EC%8D%AC-%EC%8B%A4%EC%A0%84%ED%8E%B8-08-seaborn-sns-set%EC%9D%84-%ED%86%B5%ED%95%B4-%EC%8A%A4%ED%83%80%EC%9D%BC-%EC%84%A4%EC%A0%95%ED%95%98%EA%B8%B0/\n",
    "sns.set()\n",
    "\n",
    "# 그래프 기본 설정\n",
    "# plt.rcParams['font.family'] = 'Malgun Gothic'\n",
    "plt.rcParams['font.family'] = 'AppleGothic'\n",
    "plt.rcParams['figure.figsize'] = 12, 6\n",
    "plt.rcParams['font.size'] = 14\n",
    "plt.rcParams['axes.unicode_minus'] = False\n",
    "\n",
    "# 복잡한 통계 처리를 위한 라이브러리\n",
    "from scipy import stats"
   ]
  },
  {
   "cell_type": "code",
   "execution_count": 7,
   "id": "cccb5297-8279-4f49-9391-3224c596d72d",
   "metadata": {},
   "outputs": [],
   "source": [
    "import matplotlib.pyplot as plt\n",
    "import matplotlib.font_manager as fm\n",
    "import seaborn as sns\n",
    "\n",
    "# 윈도우 기본 한글 폰트 설정 (예: 'Malgun Gothic')\n",
    "plt.rc('font', family='Malgun Gothic')\n",
    "\n",
    "# 마이너스 부호 깨지는 것 방지\n",
    "plt.rcParams['axes.unicode_minus'] = False"
   ]
  },
  {
   "cell_type": "markdown",
   "id": "2a34252b-832c-4329-8902-92bb96b3dcc6",
   "metadata": {},
   "source": [
    "### 데이터 불러오기"
   ]
  },
  {
   "cell_type": "code",
   "execution_count": 9,
   "id": "4709ca69-8a00-4a08-b4e8-a49e1df678cb",
   "metadata": {},
   "outputs": [
    {
     "data": {
      "text/html": [
       "<div>\n",
       "<style scoped>\n",
       "    .dataframe tbody tr th:only-of-type {\n",
       "        vertical-align: middle;\n",
       "    }\n",
       "\n",
       "    .dataframe tbody tr th {\n",
       "        vertical-align: top;\n",
       "    }\n",
       "\n",
       "    .dataframe thead th {\n",
       "        text-align: right;\n",
       "    }\n",
       "</style>\n",
       "<table border=\"1\" class=\"dataframe\">\n",
       "  <thead>\n",
       "    <tr style=\"text-align: right;\">\n",
       "      <th></th>\n",
       "      <th>pizza_id</th>\n",
       "      <th>order_id</th>\n",
       "      <th>pizza_name_id</th>\n",
       "      <th>quantity</th>\n",
       "      <th>order_date</th>\n",
       "      <th>order_day</th>\n",
       "      <th>order_time</th>\n",
       "      <th>unit_price</th>\n",
       "      <th>total_price</th>\n",
       "      <th>pizza_size</th>\n",
       "      <th>pizza_category</th>\n",
       "      <th>pizza_ingredients</th>\n",
       "      <th>pizza_name</th>\n",
       "    </tr>\n",
       "  </thead>\n",
       "  <tbody>\n",
       "    <tr>\n",
       "      <th>0</th>\n",
       "      <td>1</td>\n",
       "      <td>1</td>\n",
       "      <td>hawaiian_m</td>\n",
       "      <td>1</td>\n",
       "      <td>1/1/2015</td>\n",
       "      <td>Thursday</td>\n",
       "      <td>11:38:36</td>\n",
       "      <td>13.25</td>\n",
       "      <td>13.25</td>\n",
       "      <td>M</td>\n",
       "      <td>Classic</td>\n",
       "      <td>Sliced Ham, Pineapple, Mozzarella Cheese</td>\n",
       "      <td>The Hawaiian Pizza</td>\n",
       "    </tr>\n",
       "    <tr>\n",
       "      <th>1</th>\n",
       "      <td>2</td>\n",
       "      <td>2</td>\n",
       "      <td>classic_dlx_m</td>\n",
       "      <td>1</td>\n",
       "      <td>1/1/2015</td>\n",
       "      <td>Thursday</td>\n",
       "      <td>11:57:40</td>\n",
       "      <td>16.00</td>\n",
       "      <td>16.00</td>\n",
       "      <td>M</td>\n",
       "      <td>Classic</td>\n",
       "      <td>Pepperoni, Mushrooms, Red Onions, Red Peppers,...</td>\n",
       "      <td>The Classic Deluxe Pizza</td>\n",
       "    </tr>\n",
       "    <tr>\n",
       "      <th>2</th>\n",
       "      <td>3</td>\n",
       "      <td>2</td>\n",
       "      <td>five_cheese_l</td>\n",
       "      <td>1</td>\n",
       "      <td>1/1/2015</td>\n",
       "      <td>Thursday</td>\n",
       "      <td>11:57:40</td>\n",
       "      <td>18.50</td>\n",
       "      <td>18.50</td>\n",
       "      <td>L</td>\n",
       "      <td>Veggie</td>\n",
       "      <td>Mozzarella Cheese, Provolone Cheese, Smoked Go...</td>\n",
       "      <td>The Five Cheese Pizza</td>\n",
       "    </tr>\n",
       "    <tr>\n",
       "      <th>3</th>\n",
       "      <td>4</td>\n",
       "      <td>2</td>\n",
       "      <td>ital_supr_l</td>\n",
       "      <td>1</td>\n",
       "      <td>1/1/2015</td>\n",
       "      <td>Thursday</td>\n",
       "      <td>11:57:40</td>\n",
       "      <td>20.75</td>\n",
       "      <td>20.75</td>\n",
       "      <td>L</td>\n",
       "      <td>Supreme</td>\n",
       "      <td>Calabrese Salami, Capocollo, Tomatoes, Red Oni...</td>\n",
       "      <td>The Italian Supreme Pizza</td>\n",
       "    </tr>\n",
       "    <tr>\n",
       "      <th>4</th>\n",
       "      <td>5</td>\n",
       "      <td>2</td>\n",
       "      <td>mexicana_m</td>\n",
       "      <td>1</td>\n",
       "      <td>1/1/2015</td>\n",
       "      <td>Thursday</td>\n",
       "      <td>11:57:40</td>\n",
       "      <td>16.00</td>\n",
       "      <td>16.00</td>\n",
       "      <td>M</td>\n",
       "      <td>Veggie</td>\n",
       "      <td>Tomatoes, Red Peppers, Jalapeno Peppers, Red O...</td>\n",
       "      <td>The Mexicana Pizza</td>\n",
       "    </tr>\n",
       "  </tbody>\n",
       "</table>\n",
       "</div>"
      ],
      "text/plain": [
       "   pizza_id  order_id  pizza_name_id  quantity order_date order_day  \\\n",
       "0         1         1     hawaiian_m         1   1/1/2015  Thursday   \n",
       "1         2         2  classic_dlx_m         1   1/1/2015  Thursday   \n",
       "2         3         2  five_cheese_l         1   1/1/2015  Thursday   \n",
       "3         4         2    ital_supr_l         1   1/1/2015  Thursday   \n",
       "4         5         2     mexicana_m         1   1/1/2015  Thursday   \n",
       "\n",
       "  order_time  unit_price  total_price pizza_size pizza_category  \\\n",
       "0   11:38:36       13.25        13.25          M        Classic   \n",
       "1   11:57:40       16.00        16.00          M        Classic   \n",
       "2   11:57:40       18.50        18.50          L         Veggie   \n",
       "3   11:57:40       20.75        20.75          L        Supreme   \n",
       "4   11:57:40       16.00        16.00          M         Veggie   \n",
       "\n",
       "                                   pizza_ingredients  \\\n",
       "0           Sliced Ham, Pineapple, Mozzarella Cheese   \n",
       "1  Pepperoni, Mushrooms, Red Onions, Red Peppers,...   \n",
       "2  Mozzarella Cheese, Provolone Cheese, Smoked Go...   \n",
       "3  Calabrese Salami, Capocollo, Tomatoes, Red Oni...   \n",
       "4  Tomatoes, Red Peppers, Jalapeno Peppers, Red O...   \n",
       "\n",
       "                  pizza_name  \n",
       "0         The Hawaiian Pizza  \n",
       "1   The Classic Deluxe Pizza  \n",
       "2      The Five Cheese Pizza  \n",
       "3  The Italian Supreme Pizza  \n",
       "4         The Mexicana Pizza  "
      ]
     },
     "execution_count": 9,
     "metadata": {},
     "output_type": "execute_result"
    }
   ],
   "source": [
    "df = pd.read_csv('Pizza Sales Dataset.csv')\n",
    "df.head()"
   ]
  },
  {
   "cell_type": "code",
   "execution_count": 10,
   "id": "177db1b2-cf53-4b24-a435-ee3e5ab497ba",
   "metadata": {},
   "outputs": [
    {
     "data": {
      "text/plain": [
       "Index(['pizza_id', 'order_id', 'pizza_name_id', 'quantity', 'order_date',\n",
       "       'order_day', 'order_time', 'unit_price', 'total_price', 'pizza_size',\n",
       "       'pizza_category', 'pizza_ingredients', 'pizza_name'],\n",
       "      dtype='object')"
      ]
     },
     "execution_count": 10,
     "metadata": {},
     "output_type": "execute_result"
    }
   ],
   "source": [
    "df.columns"
   ]
  },
  {
   "cell_type": "markdown",
   "id": "77a46a44-2340-4c2c-9c4e-8a161091e449",
   "metadata": {},
   "source": [
    "### 컬럼명 한국어로 바꾸기"
   ]
  },
  {
   "cell_type": "code",
   "execution_count": 12,
   "id": "027b10ed-a284-4d0a-a578-91e8ad00cb6a",
   "metadata": {},
   "outputs": [],
   "source": [
    "df.rename(columns={\n",
    "    'pizza_id': '피자 ID',\n",
    "    'order_id': '주문 ID',\n",
    "    'pizza_name_id': '피자 이름 ID',\n",
    "    'quantity': '주문 수량',\n",
    "    'order_date': '주문 날짜',\n",
    "    'order_day': '주문 요일',\n",
    "    'order_time': '주문 시간',\n",
    "    'unit_price': '단가',\n",
    "    'total_price': '총액',\n",
    "    'pizza_size': '피자 사이즈',\n",
    "    'pizza_category': '피자 종류',\n",
    "    'pizza_ingredients': '피자 재료 목록',\n",
    "    'pizza_name': '피자 이름'\n",
    "}, inplace=True)"
   ]
  },
  {
   "cell_type": "code",
   "execution_count": 13,
   "id": "54974832-0607-4017-89ba-743f98cdfc1b",
   "metadata": {},
   "outputs": [
    {
     "data": {
      "text/plain": [
       "피자 ID       0\n",
       "주문 ID       0\n",
       "피자 이름 ID    0\n",
       "주문 수량       0\n",
       "주문 날짜       0\n",
       "주문 요일       0\n",
       "주문 시간       0\n",
       "단가          0\n",
       "총액          0\n",
       "피자 사이즈      0\n",
       "피자 종류       0\n",
       "피자 재료 목록    0\n",
       "피자 이름       0\n",
       "dtype: int64"
      ]
     },
     "execution_count": 13,
     "metadata": {},
     "output_type": "execute_result"
    }
   ],
   "source": [
    "# 결측치 확인 : 없음\n",
    "df.isna().sum()"
   ]
  },
  {
   "cell_type": "code",
   "execution_count": 14,
   "id": "51bdd0cb-4ecc-4acc-8bde-5958081391e5",
   "metadata": {},
   "outputs": [
    {
     "name": "stdout",
     "output_type": "stream",
     "text": [
      "<class 'pandas.core.frame.DataFrame'>\n",
      "RangeIndex: 48620 entries, 0 to 48619\n",
      "Data columns (total 13 columns):\n",
      " #   Column    Non-Null Count  Dtype  \n",
      "---  ------    --------------  -----  \n",
      " 0   피자 ID     48620 non-null  int64  \n",
      " 1   주문 ID     48620 non-null  int64  \n",
      " 2   피자 이름 ID  48620 non-null  object \n",
      " 3   주문 수량     48620 non-null  int64  \n",
      " 4   주문 날짜     48620 non-null  object \n",
      " 5   주문 요일     48620 non-null  object \n",
      " 6   주문 시간     48620 non-null  object \n",
      " 7   단가        48620 non-null  float64\n",
      " 8   총액        48620 non-null  float64\n",
      " 9   피자 사이즈    48620 non-null  object \n",
      " 10  피자 종류     48620 non-null  object \n",
      " 11  피자 재료 목록  48620 non-null  object \n",
      " 12  피자 이름     48620 non-null  object \n",
      "dtypes: float64(2), int64(3), object(8)\n",
      "memory usage: 4.8+ MB\n"
     ]
    }
   ],
   "source": [
    "df.info()"
   ]
  },
  {
   "cell_type": "markdown",
   "id": "ca09b001-9c7a-4679-ad30-6dab0427d7da",
   "metadata": {},
   "source": [
    "## 분석 시작"
   ]
  },
  {
   "cell_type": "markdown",
   "id": "a2c76fde-51fd-4748-a614-5df1d1f04544",
   "metadata": {},
   "source": [
    "### - 금요일 시간대별 주문량 분석"
   ]
  },
  {
   "cell_type": "code",
   "execution_count": 76,
   "id": "ec28df7f-46e7-41f5-a80e-195c2b0468af",
   "metadata": {},
   "outputs": [],
   "source": [
    "# 날짜 + 시간 합쳐서 datetime 열 만들기\n",
    "df['주문일시'] = pd.to_datetime(df['주문 날짜'] + ' ' + df['주문 시간'])\n",
    "\n",
    "# 요일 숫자(0~6) → 한글 요일로 변환\n",
    "요일_매핑 = ['월요일', '화요일', '수요일', '목요일', '금요일', '토요일', '일요일']\n",
    "df['주문 요일'] = df['주문일시'].dt.dayofweek.map(lambda x: 요일_매핑[x])\n",
    "\n",
    "# 카테고리 순서 설정\n",
    "요일_순서 = ['월요일', '화요일', '수요일', '목요일', '금요일', '토요일', '일요일']\n",
    "df['주문 요일'] = pd.Categorical(df['주문 요일'], categories=요일_순서, ordered=True)\n",
    "\n",
    "# 요일 번호, 시간대 추출\n",
    "df['요일_번호'] = df['주문일시'].dt.dayofweek\n",
    "df['시간대'] = df['주문일시'].dt.hour\n",
    "\n",
    "# 시간대별 주문량 집계\n",
    "시간대별_주문량 = df['시간대'].value_counts().sort_index()\n",
    "시간대별_주문량_df = 시간대별_주문량.reset_index()\n",
    "시간대별_주문량_df.columns = ['시간대', '주문 수']"
   ]
  },
  {
   "cell_type": "code",
   "execution_count": 94,
   "id": "4eb3803d-5b77-4a1c-ada0-d8649b3010c1",
   "metadata": {},
   "outputs": [
    {
     "data": {
      "image/png": "[encoded data removed]",
      "text/plain": [
       "<Figure size 1200x600 with 1 Axes>"
      ]
     },
     "metadata": {},
     "output_type": "display_data"
    }
   ],
   "source": [
    "# 1. 금요일 데이터 추출\n",
    "금요일_데이터 = df[df['주문 요일'] == '금요일']\n",
    "\n",
    "# 2. 시간대별 주문량 집계\n",
    "금요일_시간대별_주문량 = 금요일_데이터.groupby('시간대')['주문 수량'].sum().reset_index()\n",
    "\n",
    "# 3. 보고 싶은 시간대 범위: 아침 8시 ~ 새벽 2시 (0,1,2 포함)\n",
    "원하는_시간대 = list(range(8, 24)) + [0, 1, 2]\n",
    "금요일_시간대별_주문량 = 금요일_시간대별_주문량[금요일_시간대별_주문량['시간대'].isin(원하는_시간대)]\n",
    "\n",
    "# 4. 원하는 시간대 순서대로 정렬\n",
    "금요일_시간대별_주문량['시간대'] = pd.Categorical(\n",
    "    금요일_시간대별_주문량['시간대'],\n",
    "    categories=원하는_시간대,\n",
    "    ordered=True\n",
    ")\n",
    "금요일_시간대별_주문량 = 금요일_시간대별_주문량.sort_values('시간대')\n",
    "\n",
    "# 5. 시각화\n",
    "import seaborn as sns\n",
    "import matplotlib.pyplot as plt\n",
    "\n",
    "plt.figure(figsize=(12, 6))\n",
    "sns.barplot(data=금요일_시간대별_주문량, x='시간대', y='주문 수량', color='skyblue')\n",
    "plt.title('금요일 시간대별 피자 주문 수량 (08시~02시)')\n",
    "plt.xlabel('시간대')\n",
    "plt.ylabel('주문 수량')\n",
    "plt.tight_layout()\n",
    "plt.show()"
   ]
  },
  {
   "cell_type": "markdown",
   "id": "d9dc3495-9acb-4c67-b121-e64aa2fa14c7",
   "metadata": {},
   "source": [
    "### - 월 ~ 목 / 금 / 토 ~ 일 나눠서 요일별 주문량 분석"
   ]
  },
  {
   "cell_type": "code",
   "execution_count": 129,
   "id": "737d500f-0dd6-48a1-bf26-644de48e3e1e",
   "metadata": {},
   "outputs": [
    {
     "data": {
      "text/plain": [
       "<Axes: xlabel='요일 그룹', ylabel='주문 수량'>"
      ]
     },
     "execution_count": 129,
     "metadata": {},
     "output_type": "execute_result"
    },
    {
     "data": {
      "image/png": "[encoded data removed]",
      "text/plain": [
       "<Figure size 1200x600 with 1 Axes>"
      ]
     },
     "metadata": {},
     "output_type": "display_data"
    }
   ],
   "source": [
    "# 순서 지정\n",
    "요일_순서 = ['주중', '금요일', '주말']\n",
    "df['요일 그룹'] = pd.Categorical(df['요일 그룹'], categories=요일_순서, ordered=True)\n",
    "\n",
    "# 그룹별 집계\n",
    "요일그룹별_합계 = df.groupby('요일 그룹', observed=False)['주문 수량'].sum().reset_index()\n",
    "\n",
    "# 시각화\n",
    "sns.barplot(\n",
    "    data=요일그룹별_주문량,\n",
    "    x='요일 그룹',\n",
    "    y='주문 수량'\n",
    ")"
   ]
  },
  {
   "cell_type": "code",
   "execution_count": 133,
   "id": "a6d579fe-9887-4ecf-b4f4-20a437b8f4bd",
   "metadata": {},
   "outputs": [
    {
     "data": {
      "text/plain": [
       "<Axes: xlabel='요일 그룹', ylabel='평균 주문 수량'>"
      ]
     },
     "execution_count": 133,
     "metadata": {},
     "output_type": "execute_result"
    },
    {
     "data": {
      "image/png": "[encoded data removed]",
      "text/plain": [
       "<Figure size 1200x600 with 1 Axes>"
      ]
     },
     "metadata": {},
     "output_type": "display_data"
    }
   ],
   "source": [
    "# 요일 → 요일 그룹 매핑\n",
    "요일_그룹 = {\n",
    "    '월요일': '주중',\n",
    "    '화요일': '주중',\n",
    "    '수요일': '주중',\n",
    "    '목요일': '주중',\n",
    "    '금요일': '금요일',\n",
    "    '토요일': '주말',\n",
    "    '일요일': '주말'\n",
    "}\n",
    "df['요일 그룹'] = df['주문 요일'].map(요일_그룹)\n",
    "\n",
    "# 총 주문 수량 집계\n",
    "요일그룹별_합계 = df.groupby('요일 그룹')['주문 수량'].sum().reset_index()\n",
    "요일그룹별_합계.columns = ['요일 그룹', '총 주문 수량']\n",
    "\n",
    "# 각 그룹의 요일 수 정의\n",
    "요일_수 = {\n",
    "    '주중': 4,\n",
    "    '금요일': 1,\n",
    "    '주말': 2\n",
    "}\n",
    "요일그룹별_합계['요일 수'] = 요일그룹별_합계['요일 그룹'].map(요일_수)\n",
    "요일그룹별_합계['평균 주문 수량'] = 요일그룹별_합계['총 주문 수량'] / 요일그룹별_합계['요일 수']\n",
    "\n",
    "# 순서 정리\n",
    "요일_순서 = ['주중', '금요일', '주말']\n",
    "요일그룹별_합계['요일 그룹'] = pd.Categorical(요일그룹별_합계['요일 그룹'], categories=요일_순서, ordered=True)\n",
    "요일그룹별_합계 = 요일그룹별_합계.sort_values('요일 그룹')\n",
    "\n",
    "# 시각화\n",
    "sns.barplot(\n",
    "    data=요일그룹별_합계,\n",
    "    x='요일 그룹',\n",
    "    y='평균 주문 수량'\n",
    ")"
   ]
  },
  {
   "cell_type": "code",
   "execution_count": null,
   "id": "030912d8-ce24-4289-a1cf-f9c741376866",
   "metadata": {},
   "outputs": [],
   "source": []
  }
 ],
 "metadata": {
  "kernelspec": {
   "display_name": "Python [conda env:base] *",
   "language": "python",
   "name": "conda-base-py"
  },
  "language_info": {
   "codemirror_mode": {
    "name": "ipython",
    "version": 3
   },
   "file_extension": ".py",
   "mimetype": "text/x-python",
   "name": "python",
   "nbconvert_exporter": "python",
   "pygments_lexer": "ipython3",
   "version": "3.12.7"
  }
 },
 "nbformat": 4,
 "nbformat_minor": 5
}
