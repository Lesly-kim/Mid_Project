{
 "cells": [
  {
   "cell_type": "code",
   "execution_count": 23,
   "metadata": {},
   "outputs": [],
   "source": [
    "# 기본 라이브러리\n",
    "import numpy as np\n",
    "import pandas as pd\n",
    "import matplotlib.pyplot as plt\n",
    "import seaborn as sns\n",
    "\n",
    "# 그래프 기본 테마 설정\n",
    "# https://coldbrown.co.kr/2023/07/%ED%8C%8C%EC%9D%B4%EC%8D%AC-%EC%8B%A4%EC%A0%84%ED%8E%B8-08-seaborn-sns-set%EC%9D%84-%ED%86%B5%ED%95%B4-%EC%8A%A4%ED%83%80%EC%9D%BC-%EC%84%A4%EC%A0%95%ED%95%98%EA%B8%B0/\n",
    "sns.set()\n",
    "\n",
    "# 그래프 기본 설정\n",
    "# plt.rcParams['font.family'] = 'Malgun Gothic'\n",
    "plt.rcParams['font.family'] = 'AppleGothic'\n",
    "plt.rcParams['figure.figsize'] = 12, 6\n",
    "plt.rcParams['font.size'] = 14\n",
    "plt.rcParams['axes.unicode_minus'] = False\n",
    "\n",
    "# 복잡한 통계 처리를 위한 라이브러리\n",
    "from scipy import stats"
   ]
  },
  {
   "cell_type": "code",
   "execution_count": 24,
   "metadata": {},
   "outputs": [],
   "source": [
    "import matplotlib.pyplot as plt\n",
    "import matplotlib.font_manager as fm\n",
    "import seaborn as sns\n",
    "\n",
    "# 윈도우 기본 한글 폰트 설정 (예: 'Malgun Gothic')\n",
    "plt.rc('font', family='Malgun Gothic')\n",
    "\n",
    "# 마이너스 부호 깨지는 것도 방지\n",
    "plt.rcParams['axes.unicode_minus'] = False"
   ]
  },
  {
   "cell_type": "markdown",
   "metadata": {},
   "source": [
    "### 데이터 불러오기"
   ]
  },
  {
   "cell_type": "code",
   "execution_count": 26,
   "metadata": {},
   "outputs": [
    {
     "data": {
      "text/html": [
       "<div>\n",
       "<style scoped>\n",
       "    .dataframe tbody tr th:only-of-type {\n",
       "        vertical-align: middle;\n",
       "    }\n",
       "\n",
       "    .dataframe tbody tr th {\n",
       "        vertical-align: top;\n",
       "    }\n",
       "\n",
       "    .dataframe thead th {\n",
       "        text-align: right;\n",
       "    }\n",
       "</style>\n",
       "<table border=\"1\" class=\"dataframe\">\n",
       "  <thead>\n",
       "    <tr style=\"text-align: right;\">\n",
       "      <th></th>\n",
       "      <th>pizza_id</th>\n",
       "      <th>order_id</th>\n",
       "      <th>pizza_name_id</th>\n",
       "      <th>quantity</th>\n",
       "      <th>order_date</th>\n",
       "      <th>order_day</th>\n",
       "      <th>order_time</th>\n",
       "      <th>unit_price</th>\n",
       "      <th>total_price</th>\n",
       "      <th>pizza_size</th>\n",
       "      <th>pizza_category</th>\n",
       "      <th>pizza_ingredients</th>\n",
       "      <th>pizza_name</th>\n",
       "    </tr>\n",
       "  </thead>\n",
       "  <tbody>\n",
       "    <tr>\n",
       "      <th>0</th>\n",
       "      <td>1</td>\n",
       "      <td>1</td>\n",
       "      <td>hawaiian_m</td>\n",
       "      <td>1</td>\n",
       "      <td>1/1/2015</td>\n",
       "      <td>Thursday</td>\n",
       "      <td>11:38:36</td>\n",
       "      <td>13.25</td>\n",
       "      <td>13.25</td>\n",
       "      <td>M</td>\n",
       "      <td>Classic</td>\n",
       "      <td>Sliced Ham, Pineapple, Mozzarella Cheese</td>\n",
       "      <td>The Hawaiian Pizza</td>\n",
       "    </tr>\n",
       "    <tr>\n",
       "      <th>1</th>\n",
       "      <td>2</td>\n",
       "      <td>2</td>\n",
       "      <td>classic_dlx_m</td>\n",
       "      <td>1</td>\n",
       "      <td>1/1/2015</td>\n",
       "      <td>Thursday</td>\n",
       "      <td>11:57:40</td>\n",
       "      <td>16.00</td>\n",
       "      <td>16.00</td>\n",
       "      <td>M</td>\n",
       "      <td>Classic</td>\n",
       "      <td>Pepperoni, Mushrooms, Red Onions, Red Peppers,...</td>\n",
       "      <td>The Classic Deluxe Pizza</td>\n",
       "    </tr>\n",
       "    <tr>\n",
       "      <th>2</th>\n",
       "      <td>3</td>\n",
       "      <td>2</td>\n",
       "      <td>five_cheese_l</td>\n",
       "      <td>1</td>\n",
       "      <td>1/1/2015</td>\n",
       "      <td>Thursday</td>\n",
       "      <td>11:57:40</td>\n",
       "      <td>18.50</td>\n",
       "      <td>18.50</td>\n",
       "      <td>L</td>\n",
       "      <td>Veggie</td>\n",
       "      <td>Mozzarella Cheese, Provolone Cheese, Smoked Go...</td>\n",
       "      <td>The Five Cheese Pizza</td>\n",
       "    </tr>\n",
       "    <tr>\n",
       "      <th>3</th>\n",
       "      <td>4</td>\n",
       "      <td>2</td>\n",
       "      <td>ital_supr_l</td>\n",
       "      <td>1</td>\n",
       "      <td>1/1/2015</td>\n",
       "      <td>Thursday</td>\n",
       "      <td>11:57:40</td>\n",
       "      <td>20.75</td>\n",
       "      <td>20.75</td>\n",
       "      <td>L</td>\n",
       "      <td>Supreme</td>\n",
       "      <td>Calabrese Salami, Capocollo, Tomatoes, Red Oni...</td>\n",
       "      <td>The Italian Supreme Pizza</td>\n",
       "    </tr>\n",
       "    <tr>\n",
       "      <th>4</th>\n",
       "      <td>5</td>\n",
       "      <td>2</td>\n",
       "      <td>mexicana_m</td>\n",
       "      <td>1</td>\n",
       "      <td>1/1/2015</td>\n",
       "      <td>Thursday</td>\n",
       "      <td>11:57:40</td>\n",
       "      <td>16.00</td>\n",
       "      <td>16.00</td>\n",
       "      <td>M</td>\n",
       "      <td>Veggie</td>\n",
       "      <td>Tomatoes, Red Peppers, Jalapeno Peppers, Red O...</td>\n",
       "      <td>The Mexicana Pizza</td>\n",
       "    </tr>\n",
       "  </tbody>\n",
       "</table>\n",
       "</div>"
      ],
      "text/plain": [
       "   pizza_id  order_id  pizza_name_id  quantity order_date order_day  \\\n",
       "0         1         1     hawaiian_m         1   1/1/2015  Thursday   \n",
       "1         2         2  classic_dlx_m         1   1/1/2015  Thursday   \n",
       "2         3         2  five_cheese_l         1   1/1/2015  Thursday   \n",
       "3         4         2    ital_supr_l         1   1/1/2015  Thursday   \n",
       "4         5         2     mexicana_m         1   1/1/2015  Thursday   \n",
       "\n",
       "  order_time  unit_price  total_price pizza_size pizza_category  \\\n",
       "0   11:38:36       13.25        13.25          M        Classic   \n",
       "1   11:57:40       16.00        16.00          M        Classic   \n",
       "2   11:57:40       18.50        18.50          L         Veggie   \n",
       "3   11:57:40       20.75        20.75          L        Supreme   \n",
       "4   11:57:40       16.00        16.00          M         Veggie   \n",
       "\n",
       "                                   pizza_ingredients  \\\n",
       "0           Sliced Ham, Pineapple, Mozzarella Cheese   \n",
       "1  Pepperoni, Mushrooms, Red Onions, Red Peppers,...   \n",
       "2  Mozzarella Cheese, Provolone Cheese, Smoked Go...   \n",
       "3  Calabrese Salami, Capocollo, Tomatoes, Red Oni...   \n",
       "4  Tomatoes, Red Peppers, Jalapeno Peppers, Red O...   \n",
       "\n",
       "                  pizza_name  \n",
       "0         The Hawaiian Pizza  \n",
       "1   The Classic Deluxe Pizza  \n",
       "2      The Five Cheese Pizza  \n",
       "3  The Italian Supreme Pizza  \n",
       "4         The Mexicana Pizza  "
      ]
     },
     "execution_count": 26,
     "metadata": {},
     "output_type": "execute_result"
    }
   ],
   "source": [
    "df = pd.read_csv('Pizza Sales Dataset.csv')\n",
    "df.head()"
   ]
  },
  {
   "cell_type": "code",
   "execution_count": 27,
   "metadata": {},
   "outputs": [
    {
     "data": {
      "text/plain": [
       "Index(['pizza_id', 'order_id', 'pizza_name_id', 'quantity', 'order_date',\n",
       "       'order_day', 'order_time', 'unit_price', 'total_price', 'pizza_size',\n",
       "       'pizza_category', 'pizza_ingredients', 'pizza_name'],\n",
       "      dtype='object')"
      ]
     },
     "execution_count": 27,
     "metadata": {},
     "output_type": "execute_result"
    }
   ],
   "source": [
    "df.columns"
   ]
  },
  {
   "cell_type": "markdown",
   "metadata": {},
   "source": [
    "### 컬럼명 한국어로 바꾸기"
   ]
  },
  {
   "cell_type": "code",
   "execution_count": 29,
   "metadata": {},
   "outputs": [],
   "source": [
    "df.rename(columns={\n",
    "    'pizza_id': '피자 ID',\n",
    "    'order_id': '주문 ID',\n",
    "    'pizza_name_id': '피자 이름 ID',\n",
    "    'quantity': '주문 수량',\n",
    "    'order_date': '주문 날짜',\n",
    "    'order_day': '주문 요일',\n",
    "    'order_time': '주문 시간',\n",
    "    'unit_price': '단가',\n",
    "    'total_price': '총액',\n",
    "    'pizza_size': '피자 사이즈',\n",
    "    'pizza_category': '피자 종류',\n",
    "    'pizza_ingredients': '피자 재료 목록',\n",
    "    'pizza_name': '피자 이름'\n",
    "}, inplace=True)"
   ]
  },
  {
   "cell_type": "code",
   "execution_count": 30,
   "metadata": {},
   "outputs": [
    {
     "data": {
      "text/plain": [
       "피자 ID       0\n",
       "주문 ID       0\n",
       "피자 이름 ID    0\n",
       "주문 수량       0\n",
       "주문 날짜       0\n",
       "주문 요일       0\n",
       "주문 시간       0\n",
       "단가          0\n",
       "총액          0\n",
       "피자 사이즈      0\n",
       "피자 종류       0\n",
       "피자 재료 목록    0\n",
       "피자 이름       0\n",
       "dtype: int64"
      ]
     },
     "execution_count": 30,
     "metadata": {},
     "output_type": "execute_result"
    }
   ],
   "source": [
    "# 결측치 확인 : 없음\n",
    "df.isna().sum()"
   ]
  },
  {
   "cell_type": "code",
   "execution_count": 31,
   "metadata": {},
   "outputs": [
    {
     "name": "stdout",
     "output_type": "stream",
     "text": [
      "<class 'pandas.core.frame.DataFrame'>\n",
      "RangeIndex: 48620 entries, 0 to 48619\n",
      "Data columns (total 13 columns):\n",
      " #   Column    Non-Null Count  Dtype  \n",
      "---  ------    --------------  -----  \n",
      " 0   피자 ID     48620 non-null  int64  \n",
      " 1   주문 ID     48620 non-null  int64  \n",
      " 2   피자 이름 ID  48620 non-null  object \n",
      " 3   주문 수량     48620 non-null  int64  \n",
      " 4   주문 날짜     48620 non-null  object \n",
      " 5   주문 요일     48620 non-null  object \n",
      " 6   주문 시간     48620 non-null  object \n",
      " 7   단가        48620 non-null  float64\n",
      " 8   총액        48620 non-null  float64\n",
      " 9   피자 사이즈    48620 non-null  object \n",
      " 10  피자 종류     48620 non-null  object \n",
      " 11  피자 재료 목록  48620 non-null  object \n",
      " 12  피자 이름     48620 non-null  object \n",
      "dtypes: float64(2), int64(3), object(8)\n",
      "memory usage: 4.8+ MB\n"
     ]
    }
   ],
   "source": [
    "df.info()"
   ]
  },
  {
   "cell_type": "markdown",
   "metadata": {},
   "source": [
    "### 분석 시작"
   ]
  },
  {
   "cell_type": "markdown",
   "metadata": {},
   "source": [
    "1. 날짜/시간 데이터 정리 주문 날짜, 주문 시간 datetime 타입으로 변환"
   ]
  },
  {
   "cell_type": "code",
   "execution_count": 72,
   "metadata": {},
   "outputs": [],
   "source": [
    "# 날짜 + 시간 합쳐서 datetime 열 만들기\n",
    "df['주문일시'] = pd.to_datetime(df['주문 날짜'] + ' ' + df['주문 시간'])\n",
    "\n",
    "# 요일도 숫자로 변경\n",
    "# 영어 요일 → 한글 매핑\n",
    "요일_매핑 = {\n",
    "    'Monday': '월요일',\n",
    "    'Tuesday': '화요일',\n",
    "    'Wednesday': '수요일',\n",
    "    'Thursday': '목요일',\n",
    "    'Friday': '금요일',\n",
    "    'Saturday': '토요일',\n",
    "    'Sunday': '일요일'\n",
    "}\n",
    "\n",
    "df['주문 요일'] = df['주문 요일'].map(요일_매핑)\n",
    "\n",
    "# 순서 설정\n",
    "요일_순서 = ['월요일', '화요일', '수요일', '목요일', '금요일', '토요일', '일요일']\n",
    "df['주문 요일'] = pd.Categorical(df['주문 요일'], categories=요일_순서, ordered=True)\n",
    "\n",
    "df['요일_번호'] = df['주문일시'].dt.dayofweek  # 월=0 ~ 일=6\n",
    "df['시간대'] = df['주문일시'].dt.hour"
   ]
  },
  {
   "cell_type": "code",
   "execution_count": 58,
   "metadata": {},
   "outputs": [
    {
     "name": "stdout",
     "output_type": "stream",
     "text": [
      "시간대\n",
      "9        4\n",
      "10      17\n",
      "11    2672\n",
      "12    6543\n",
      "13    6203\n",
      "14    3521\n",
      "15    3170\n",
      "16    4185\n",
      "17    5143\n",
      "18    5359\n",
      "19    4350\n",
      "20    3487\n",
      "21    2528\n",
      "22    1370\n",
      "23      68\n",
      "Name: count, dtype: int64\n"
     ]
    }
   ],
   "source": [
    "# '시간대' 컬럼을 기준으로 주문 수 세기\n",
    "시간대별_주문량 = df['시간대'].value_counts().sort_index()\n",
    "print(시간대별_주문량)"
   ]
  },
  {
   "cell_type": "code",
   "execution_count": 66,
   "metadata": {},
   "outputs": [
    {
     "data": {
      "image/png": "[encoded data removed]",
      "text/plain": [
       "<Figure size 1200x600 with 1 Axes>"
      ]
     },
     "metadata": {},
     "output_type": "display_data"
    }
   ],
   "source": [
    "import seaborn as sns\n",
    "import matplotlib.pyplot as plt\n",
    "\n",
    "# 시간대별 주문량\n",
    "sns.histplot(df['시간대'], bins=24, kde=True)\n",
    "plt.title('시간대별 주문 분포')\n",
    "plt.xlabel('시간')\n",
    "plt.show()"
   ]
  },
  {
   "cell_type": "code",
   "execution_count": 74,
   "metadata": {},
   "outputs": [
    {
     "name": "stdout",
     "output_type": "stream",
     "text": [
      "주문 요일\n",
      "월요일    0\n",
      "화요일    0\n",
      "수요일    0\n",
      "목요일    0\n",
      "금요일    0\n",
      "토요일    0\n",
      "일요일    0\n",
      "Name: count, dtype: int64\n"
     ]
    }
   ],
   "source": [
    "# '주문 요일' 컬럼을 기준으로 주문 수 세기 (요일 순서 보장)\n",
    "요일별_주문량 = df['주문 요일'].value_counts().reindex(요일_순서)\n",
    "print(요일별_주문량)"
   ]
  },
  {
   "cell_type": "markdown",
   "metadata": {},
   "source": [
    "### 2. 📅 **요일별 주문량 분석 (주말 특수 여부)**\n",
    "\n",
    "- **목표**: 피자 수요는 주중 vs 주말 어떻게 다른가?\n",
    "- **시각화**: `order_day` (= `주문 요일`) 기준 막대 그래프\n",
    "- **활용**: 주말 집중 마케팅 or 할인 전략 근거"
   ]
  },
  {
   "cell_type": "code",
   "execution_count": 86,
   "metadata": {},
   "outputs": [
    {
     "name": "stderr",
     "output_type": "stream",
     "text": [
      "C:\\ProgramData\\anaconda3\\Lib\\site-packages\\IPython\\core\\pylabtools.py:170: UserWarning: Glyph 50900 (\\N{HANGUL SYLLABLE WEOL}) missing from font(s) Arial.\n",
      "  fig.canvas.print_figure(bytes_io, **kw)\n",
      "C:\\ProgramData\\anaconda3\\Lib\\site-packages\\IPython\\core\\pylabtools.py:170: UserWarning: Glyph 50836 (\\N{HANGUL SYLLABLE YO}) missing from font(s) Arial.\n",
      "  fig.canvas.print_figure(bytes_io, **kw)\n",
      "C:\\ProgramData\\anaconda3\\Lib\\site-packages\\IPython\\core\\pylabtools.py:170: UserWarning: Glyph 51068 (\\N{HANGUL SYLLABLE IL}) missing from font(s) Arial.\n",
      "  fig.canvas.print_figure(bytes_io, **kw)\n",
      "C:\\ProgramData\\anaconda3\\Lib\\site-packages\\IPython\\core\\pylabtools.py:170: UserWarning: Glyph 54868 (\\N{HANGUL SYLLABLE HWA}) missing from font(s) Arial.\n",
      "  fig.canvas.print_figure(bytes_io, **kw)\n",
      "C:\\ProgramData\\anaconda3\\Lib\\site-packages\\IPython\\core\\pylabtools.py:170: UserWarning: Glyph 49688 (\\N{HANGUL SYLLABLE SU}) missing from font(s) Arial.\n",
      "  fig.canvas.print_figure(bytes_io, **kw)\n",
      "C:\\ProgramData\\anaconda3\\Lib\\site-packages\\IPython\\core\\pylabtools.py:170: UserWarning: Glyph 47785 (\\N{HANGUL SYLLABLE MOG}) missing from font(s) Arial.\n",
      "  fig.canvas.print_figure(bytes_io, **kw)\n",
      "C:\\ProgramData\\anaconda3\\Lib\\site-packages\\IPython\\core\\pylabtools.py:170: UserWarning: Glyph 44552 (\\N{HANGUL SYLLABLE GEUM}) missing from font(s) Arial.\n",
      "  fig.canvas.print_figure(bytes_io, **kw)\n",
      "C:\\ProgramData\\anaconda3\\Lib\\site-packages\\IPython\\core\\pylabtools.py:170: UserWarning: Glyph 53664 (\\N{HANGUL SYLLABLE TO}) missing from font(s) Arial.\n",
      "  fig.canvas.print_figure(bytes_io, **kw)\n",
      "C:\\ProgramData\\anaconda3\\Lib\\site-packages\\IPython\\core\\pylabtools.py:170: UserWarning: Glyph 51452 (\\N{HANGUL SYLLABLE JU}) missing from font(s) Arial.\n",
      "  fig.canvas.print_figure(bytes_io, **kw)\n",
      "C:\\ProgramData\\anaconda3\\Lib\\site-packages\\IPython\\core\\pylabtools.py:170: UserWarning: Glyph 47928 (\\N{HANGUL SYLLABLE MUN}) missing from font(s) Arial.\n",
      "  fig.canvas.print_figure(bytes_io, **kw)\n",
      "C:\\ProgramData\\anaconda3\\Lib\\site-packages\\IPython\\core\\pylabtools.py:170: UserWarning: Glyph 48324 (\\N{HANGUL SYLLABLE BYEOL}) missing from font(s) Arial.\n",
      "  fig.canvas.print_figure(bytes_io, **kw)\n"
     ]
    },
    {
     "data": {
      "image/png": "[encoded data removed]",
      "text/plain": [
       "<Figure size 1200x600 with 1 Axes>"
      ]
     },
     "metadata": {},
     "output_type": "display_data"
    }
   ],
   "source": [
    "import seaborn as sns\n",
    "import matplotlib.pyplot as plt\n",
    "\n",
    "# 요일별 주문 수\n",
    "sns.countplot(data=df, x='주문 요일', order=['월요일', '화요일', '수요일', '목요일', '금요일', '토요일', '일요일'])\n",
    "plt.title('요일별 주문 수')\n",
    "plt.show()"
   ]
  },
  {
   "cell_type": "markdown",
   "metadata": {},
   "source": [
    "2. 피자 종류별 주문수량, 사이즈별 평균 총액"
   ]
  },
  {
   "cell_type": "code",
   "execution_count": 37,
   "metadata": {},
   "outputs": [
    {
     "data": {
      "image/png": "[encoded data removed]",
      "text/plain": [
       "<Figure size 1200x600 with 1 Axes>"
      ]
     },
     "metadata": {},
     "output_type": "display_data"
    },
    {
     "data": {
      "image/png": "[encoded data removed]",
      "text/plain": [
       "<Figure size 1200x600 with 1 Axes>"
      ]
     },
     "metadata": {},
     "output_type": "display_data"
    }
   ],
   "source": [
    "# 피자 종류별 총 주문 수량\n",
    "df.groupby('피자 종류')['주문 수량'].sum().sort_values(ascending=False).plot(kind='bar')\n",
    "plt.title('피자 종류별 총 주문 수량')\n",
    "plt.ylabel('수량')\n",
    "plt.show()\n",
    "\n",
    "# 피자 사이즈별 평균 총액\n",
    "df.groupby('피자 사이즈')['총액'].mean().sort_values().plot(kind='barh')\n",
    "plt.title('사이즈별 평균 구매 금액')\n",
    "plt.xlabel('평균 총액')\n",
    "plt.show()"
   ]
  },
  {
   "cell_type": "markdown",
   "metadata": {},
   "source": [
    "1. 요일별+시간대별 주문량\n",
    "- 요일과 시간대별 주문이 몰리는 패턴 시각화 가능\n",
    "- '언제' 주문이 집중되는지 파악. 마케팅 타이밍, 인력배치, 프로모션 시간 설정\n",
    "\n",
    "2. 피자 종류/사이즈별 판매량\n",
    "- '무엇' 이 잘 팔리는지 파악. 인기메뉴 집중, 재고 및 가격정책, 메뉴개선방향? 설정??\n",
    "\n",
    "3. 가설 설정\n",
    "- 대형 사이즈 피자는 저녁에 팔림 > 피자 사이즈별 시간대 히트맵\n",
    "- 특정 요일에 특정 피자종류 > 요일 vs 피자 종류 크로스탭(?)\n",
    "- 매출이 주로 몇 개 피자에 집중되어 있다? > 총액 기준 상위메뉴 추출\n",
    "\n",
    "4. 마케팅 제안~~~\n",
    "- 수요일 오후는 주문량이 낮으니 “1+1 이벤트” 진행\n",
    "- 점심엔 M 사이즈, 저녁엔 L 사이즈를 강조 \n",
    "- 인기 없는 피자 → 재료 조합 바꾸거나 묶음 할인 ㅇㅇㅇㅇㅇ"
   ]
  },
  {
   "cell_type": "markdown",
   "metadata": {},
   "source": [
    "### 1. 시간대별 주문량 분석 (피크타임 파악)"
   ]
  },
  {
   "cell_type": "code",
   "execution_count": 40,
   "metadata": {},
   "outputs": [
    {
     "name": "stderr",
     "output_type": "stream",
     "text": [
      "C:\\Users\\덕환\\AppData\\Local\\Temp\\ipykernel_16988\\1793557668.py:2: UserWarning: Could not infer format, so each element will be parsed individually, falling back to `dateutil`. To ensure parsing is consistent and as-expected, please specify a format.\n",
      "  df['order_hour'] = pd.to_datetime(df['주문 시간']).dt.hour\n"
     ]
    },
    {
     "name": "stdout",
     "output_type": "stream",
     "text": [
      "order_hour\n",
      "9        4\n",
      "10      17\n",
      "11    2672\n",
      "12    6543\n",
      "13    6203\n",
      "14    3521\n",
      "15    3170\n",
      "16    4185\n",
      "17    5143\n",
      "18    5359\n",
      "19    4350\n",
      "20    3487\n",
      "21    2528\n",
      "22    1370\n",
      "23      68\n",
      "Name: count, dtype: int64\n"
     ]
    }
   ],
   "source": [
    "# 시간 추출\n",
    "df['order_hour'] = pd.to_datetime(df['주문 시간']).dt.hour\n",
    "\n",
    "# 시간대별 주문량 집계\n",
    "hourly_order_counts = df['order_hour'].value_counts().sort_index()\n",
    "print(hourly_order_counts)"
   ]
  },
  {
   "cell_type": "markdown",
   "metadata": {},
   "source": [
    "### 2. 요일대별 주문량 데이터 확인"
   ]
  },
  {
   "cell_type": "code",
   "execution_count": 55,
   "metadata": {},
   "outputs": [
    {
     "name": "stdout",
     "output_type": "stream",
     "text": [
      "주문 요일\n",
      "Monday       0\n",
      "Tuesday      0\n",
      "Wednesday    0\n",
      "Thursday     0\n",
      "Friday       0\n",
      "Saturday     0\n",
      "Sunday       0\n",
      "Name: count, dtype: int64\n"
     ]
    }
   ],
   "source": [
    "# 요일 순서 정렬\n",
    "days_order = ['Monday', 'Tuesday', 'Wednesday', 'Thursday', 'Friday', 'Saturday', 'Sunday']\n",
    "df['주문 요일'] = pd.Categorical(df['주문 요일'], categories=days_order, ordered=True)\n",
    "\n",
    "# 요일별 주문량 집계\n",
    "weekday_order_counts = df['주문 요일'].value_counts().sort_index()\n",
    "print(weekday_order_counts)"
   ]
  },
  {
   "cell_type": "code",
   "execution_count": null,
   "metadata": {},
   "outputs": [],
   "source": []
  }
 ],
 "metadata": {
  "kernelspec": {
   "display_name": "Python [conda env:base] *",
   "language": "python",
   "name": "conda-base-py"
  },
  "language_info": {
   "codemirror_mode": {
    "name": "ipython",
    "version": 3
   },
   "file_extension": ".py",
   "mimetype": "text/x-python",
   "name": "python",
   "nbconvert_exporter": "python",
   "pygments_lexer": "ipython3",
   "version": "3.12.7"
  }
 },
 "nbformat": 4,
 "nbformat_minor": 4
}
