{
 "cells": [
  {
   "cell_type": "code",
   "execution_count": null,
   "metadata": {},
   "outputs": [],
   "source": [
    "# 기본 라이브러리\n",
    "import numpy as np\n",
    "import pandas as pd\n",
    "import matplotlib.pyplot as plt\n",
    "import seaborn as sns\n",
    "\n",
    "# 그래프 기본 테마 설정\n",
    "# https://coldbrown.co.kr/2023/07/%ED%8C%8C%EC%9D%B4%EC%8D%AC-%EC%8B%A4%EC%A0%84%ED%8E%B8-08-seaborn-sns-set%EC%9D%84-%ED%86%B5%ED%95%B4-%EC%8A%A4%ED%83%80%EC%9D%BC-%EC%84%A4%EC%A0%95%ED%95%98%EA%B8%B0/\n",
    "sns.set()\n",
    "\n",
    "# 그래프 기본 설정\n",
    "# plt.rcParams['font.family'] = 'Malgun Gothic'\n",
    "plt.rcParams['font.family'] = 'AppleGothic'\n",
    "plt.rcParams['figure.figsize'] = 12, 6\n",
    "plt.rcParams['font.size'] = 14\n",
    "plt.rcParams['axes.unicode_minus'] = False\n",
    "\n",
    "# 복잡한 통계 처리를 위한 라이브러리\n",
    "from scipy import stats"
   ]
  },
  {
   "cell_type": "markdown",
   "metadata": {},
   "source": [
    "### 데이터 불러오기"
   ]
  },
  {
   "cell_type": "code",
   "execution_count": null,
   "metadata": {},
   "outputs": [],
   "source": [
    "df = pd.read_csv('../Pizza Sales Dataset.csv')\n",
    "df"
   ]
  },
  {
   "cell_type": "code",
   "execution_count": null,
   "metadata": {},
   "outputs": [],
   "source": [
    "df.columns"
   ]
  },
  {
   "cell_type": "markdown",
   "metadata": {},
   "source": [
    "### 컬럼명 한국어로 바꾸기"
   ]
  },
  {
   "cell_type": "code",
   "execution_count": null,
   "metadata": {},
   "outputs": [],
   "source": [
    "df.rename(columns={\n",
    "    'pizza_id': '피자 ID',\n",
    "    'order_id': '주문 ID',\n",
    "    'pizza_name_id': '피자 이름 ID',\n",
    "    'quantity': '주문 수량',\n",
    "    'order_date': '주문 날짜',\n",
    "    'order_day': '주문 요일',\n",
    "    'order_time': '주문 시간',\n",
    "    'unit_price': '단가',\n",
    "    'total_price': '총액',\n",
    "    'pizza_size': '피자 사이즈',\n",
    "    'pizza_category': '피자 종류',\n",
    "    'pizza_ingredients': '피자 재료 목록',\n",
    "    'pizza_name': '피자 이름'\n",
    "}, inplace=True)\n",
    "\n",
    "df"
   ]
  },
  {
   "cell_type": "code",
   "execution_count": null,
   "metadata": {},
   "outputs": [],
   "source": [
    "df['피자 이름'].value_counts()"
   ]
  },
  {
   "cell_type": "code",
   "execution_count": null,
   "metadata": {},
   "outputs": [],
   "source": [
    "# 결측치 확인 : 없음\n",
    "df.isna().sum()"
   ]
  },
  {
   "cell_type": "code",
   "execution_count": null,
   "metadata": {},
   "outputs": [],
   "source": [
    "df.info()"
   ]
  },
  {
   "cell_type": "markdown",
   "metadata": {},
   "source": [
    "### 분석 시작"
   ]
  },
  {
   "cell_type": "markdown",
   "metadata": {},
   "source": [
    "### EDA"
   ]
  },
  {
   "cell_type": "markdown",
   "metadata": {},
   "source": [
    "---------------------------------------------------------------------------------"
   ]
  },
  {
   "cell_type": "markdown",
   "metadata": {},
   "source": [
    "### 수연님 Part"
   ]
  },
  {
   "cell_type": "markdown",
   "metadata": {},
   "source": [
    " ### 🍕주문 ID가 같은 사용자 중(한번에 여러판 주문) 같이 주문하는 피자의 조합 중 BEST 5를 뽑아보자."
   ]
  },
  {
   "cell_type": "code",
   "execution_count": null,
   "metadata": {},
   "outputs": [],
   "source": [
    "# 미리 알아두어야 할 것.. 한 판 씩 시킨 주문이 압도적으로 많음\n",
    "\n",
    "# 두 종류 이상의 피자가 같이 주문 된 경우만 필터링\n",
    "# multi_combi : 한번에 두 판 이상 시킨 주문 data\n",
    "df_subset = df[['주문 ID', '피자 이름']]\n",
    "order_combi = df_subset.groupby('주문 ID')['피자 이름'].apply(list)\n",
    "order_combi = order_combi.apply(lambda x: tuple(sorted(x)))\n",
    "multi_combi = order_combi[order_combi.apply(lambda x: len(x) > 1)]\n",
    "\n",
    "from collections import Counter\n",
    "multi_combi_counter = Counter(multi_combi)\n",
    "top3_multi_combi = multi_combi_counter.most_common(5)\n",
    "\n",
    "top3_multi_combi_df = pd.DataFrame(top3_multi_combi, columns = ['피자조합', \"빈도수\"])\n",
    "display(top3_multi_combi_df)\n",
    "\n",
    "top3_multi_combi_df.to_csv('한번에 함께 주문된 피자조합 top5', index = False, encoding=\"utf-8-sig\")"
   ]
  },
  {
   "cell_type": "code",
   "execution_count": null,
   "metadata": {},
   "outputs": [],
   "source": [
    "# 튜플을 보기 좋게 문자열로 바꾸기 (예: 피자1\\n피자2)\n",
    "top3_multi_combi_df[\"피자조합_이름\"] = top3_multi_combi_df[\"피자조합\"].apply(lambda x: \"\\n\".join(x))\n",
    "\n",
    "# seaborn 불러오기\n",
    "import seaborn as sns\n",
    "\n",
    "# seaborn을 사용한 가로 막대 그래프 시각화\n",
    "plt.figure(figsize=(8, 5))\n",
    "sns.barplot(\n",
    "    data=top3_multi_combi_df,\n",
    "    y=\"피자조합_이름\",\n",
    "    x=\"빈도수\",\n",
    "    palette=\"autumn\"\n",
    ")\n",
    "\n",
    "plt.xlabel(\"주문 빈도수\")\n",
    "plt.ylabel(\"피자 조합\")\n",
    "plt.title(\"한 번에 함께 주문된 피자 조합 TOP 5 (Seaborn)\")\n",
    "plt.tight_layout()\n",
    "plt.show()"
   ]
  },
  {
   "cell_type": "markdown",
   "metadata": {},
   "source": [
    "---------------------------------------------------------------------------------"
   ]
  },
  {
   "cell_type": "markdown",
   "metadata": {},
   "source": [
    "### **🕹️가격대별 고객 취향 세분화 (클러스터링 유사 접근)**\n",
    "\n",
    "- **목표**: 고객들은 어떤 가격대 + 어떤 종류의 피자를 즐기는가?\n",
    "- **시각화**: `unit_price`, `category`, `size` 기준 버블 차트\n",
    "- **활용**: 타깃 고객별 맞춤 프로모션 (ex. 저가+소형 선호 고객층 vs 고가+XL 고객층)"
   ]
  },
  {
   "cell_type": "markdown",
   "metadata": {},
   "source": []
  },
  {
   "cell_type": "code",
   "execution_count": null,
   "metadata": {},
   "outputs": [],
   "source": [
    "# 가격 구간화 \n",
    "\n",
    "def 가격구간(가격):\n",
    "    if 가격 <= 14.99:\n",
    "        return '저가 (≤ $14.99)'\n",
    "    elif 15.00 <= 가격 <= 19.99:\n",
    "        return '중가 ($15.00 ~ $19.99)'\n",
    "    else:\n",
    "        return '고가 (≥ $20.00)'\n",
    "\n",
    "# 단가 기준으로 구간 분류\n",
    "df['가격 구간'] = df['단가'].apply(가격구간)\n",
    "\n",
    "# 가격 구간 + 피자 종류별 수량 합계\n",
    "grouped = df.groupby(['가격 구간', '피자 종류'])['주문 수량'].sum().reset_index()\n",
    "\n",
    "# 각 가격 구간에서 총 수량 기준으로 비율 계산\n",
    "grouped['비율'] = grouped.groupby('가격 구간')['주문 수량'].transform(lambda x: round(x / x.sum(), 2))\n",
    "grouped\n",
    "\n",
    "grouped.to_csv('가격대별 피자 종류 분석', index = False, encoding = 'utf-8-sig')"
   ]
  },
  {
   "cell_type": "code",
   "execution_count": null,
   "metadata": {},
   "outputs": [],
   "source": [
    "# 누적 barplot으로 그려보기\n",
    "\n",
    "pivot_df = grouped.pivot(index='가격 구간', columns='피자 종류', values='비율')\n",
    "\n",
    "pivot_df.plot(kind='bar', stacked=True, figsize=(8, 7), colormap='tab20')\n",
    "plt.title('가격 구간별 피자 종류 선호 비율')\n",
    "plt.ylabel('비율')\n",
    "plt.xlabel('가격 구간')\n",
    "plt.legend(title='피자 종류', bbox_to_anchor=(1.05, 1), loc='upper left')\n",
    "plt.tight_layout()\n",
    "plt.show()\n"
   ]
  },
  {
   "cell_type": "code",
   "execution_count": null,
   "metadata": {},
   "outputs": [],
   "source": [
    "# 파이그래프로 그려보기\n",
    "import matplotlib.pyplot as plt\n",
    "\n",
    "# 각 가격 구간에 대해 pie chart 반복 생성\n",
    "구간_리스트 = grouped['가격 구간'].unique()\n",
    "\n",
    "for 구간 in 구간_리스트:\n",
    "    # 현재 구간의 데이터 필터링\n",
    "    temp = grouped[grouped['가격 구간'] == 구간]\n",
    "\n",
    "    labels = temp['피자 종류']\n",
    "    sizes = temp['비율']  # 이미 0~1 사이 비율로 되어 있음\n",
    "\n",
    "    # 차트 생성\n",
    "    plt.figure(figsize=(6, 6))\n",
    "    plt.pie(\n",
    "        sizes, \n",
    "        labels=labels, \n",
    "        autopct='%1.0f%%', \n",
    "        startangle=90, \n",
    "        counterclock=False, \n",
    "        wedgeprops={'edgecolor': 'white'}\n",
    "    )\n",
    "    plt.title(f\"{구간} 피자 종류 구성비\")\n",
    "    plt.tight_layout()\n",
    "    plt.show()\n"
   ]
  },
  {
   "cell_type": "markdown",
   "metadata": {},
   "source": []
  },
  {
   "cell_type": "markdown",
   "metadata": {},
   "source": [
    "**🔍 인사이트 정리 (보고서/발표용)**\n",
    "\n",
    "✅ 1. 저가 구간 (≤ $14.99)\n",
    "Classic 피자 비중 압도적 (~50%)\n",
    "\n",
    "그 외에는 Supreme, Chicken이 균형 있게 분포\n",
    "\n",
    "📝 인사이트:\n",
    "\n",
    "저가 라인은 \"전통적인 입맛\" 중심. Classic 피자를 중심으로 단일 인기 메뉴 전략이 가능. 원가 절감형 베스트셀러 구성에 적합.\n",
    "\n",
    "✅ 2. 중가 구간 ($15.00 ~ $19.99)\n",
    "4가지 종류가 골고루 분포\n",
    "(Chicken, Classic, Supreme, Veggie 균형 잡힘)\n",
    "\n",
    "📝 인사이트:\n",
    "\n",
    "중가 라인은 취향 다양성이 극대화된 구간. 모든 카테고리 피자를 고르게 즐김 → 콤보 메뉴, 혼합 패키지, 커스터마이징 옵션 강화에 적합.\n",
    "\n",
    "✅ 3. 고가 구간 (≥ $20.00)\n",
    "Chicken 비율 상승, Classic 감소\n",
    "\n",
    "Veggie/Supreme도 고르게 유지\n",
    "\n",
    "📝 인사이트:\n",
    "\n",
    "고가 피자는 육류 중심의 프리미엄 취향이 뚜렷함. Chicken 피자에 대한 선호가 확연히 드러남. 고단백/고급 토핑 기반 프리미엄 라인 확장 가능."
   ]
  },
  {
   "cell_type": "markdown",
   "metadata": {},
   "source": [
    "---------------------------------------------------------------------------------"
   ]
  },
  {
   "cell_type": "markdown",
   "metadata": {},
   "source": [
    "### **🧄토핑 종류 다양성과 단가 관계 분석 수연님**\n",
    "\n",
    "- 목표: 토핑이 많을수록 가격이 비쌀까?\n",
    "- 전처리: Toppings 개수 계산 → Unit Price와 관계 산점도\n",
    "- 활용: 토핑 추가 가격 정책 검토"
   ]
  },
  {
   "cell_type": "code",
   "execution_count": null,
   "metadata": {},
   "outputs": [],
   "source": [
    "# 토핑 문자열을 , 기준으로 분리한 후 개수 계산\n",
    "df['토핑 수'] = df['피자 재료 목록'].apply(lambda x: len(x.split(',')))"
   ]
  },
  {
   "cell_type": "code",
   "execution_count": null,
   "metadata": {},
   "outputs": [],
   "source": [
    "# 단가와 토핑수를 산점도로 나타내기\n",
    "\n",
    "plt.figure(figsize=(8, 5))\n",
    "plt.scatter(df['토핑 수'], df['단가'], alpha=0.6)\n",
    "plt.title('토핑 수 vs 단가 관계')\n",
    "plt.xlabel('토핑 수')\n",
    "plt.ylabel('단가 ($)')\n",
    "plt.grid(True, linestyle='--', alpha=0.5)\n",
    "plt.tight_layout()\n",
    "plt.show()\n"
   ]
  },
  {
   "cell_type": "code",
   "execution_count": null,
   "metadata": {},
   "outputs": [],
   "source": [
    "corr = df[['토핑 수', '단가']].corr().iloc[0, 1]\n",
    "print(f\"토핑 수와 단가 간 상관계수: {corr:.2f}\")"
   ]
  },
  {
   "cell_type": "markdown",
   "metadata": {},
   "source": [
    "**📌 분석 요약**\n",
    "\n",
    "X축: 피자당 토핑 수 (2~8개)\n",
    "\n",
    "Y축: 해당 피자의 단가 ($)\n",
    "\n",
    "상관계수: 0.35 → 약한~중간 정도의 양의 상관관계\n",
    "\n",
    "**🔍 데이터 인사이트**\n",
    "\n",
    "✅ 1. 토핑 수가 많을수록 가격이 오르는 경향\n",
    "대체로 토핑 수 5~7개일 때 단가가 높은 피자들이 많음\n",
    "\n",
    "**최고가 피자($35 이상)**도 토핑 6개인 구간에서 등장\n",
    "\n",
    "✅ 2. 예외 케이스 존재\n",
    "토핑 수 5~6개지만 단가가 낮은 피자 존재\n",
    "\n",
    "토핑 수 2~3개임에도 단가가 높은 피자도 일부 존재 → 브랜드 전략 또는 고급 재료 가능성\n",
    "\n",
    "💬 인사이트 요약 문장 (보고서용)\n",
    "“토핑 수와 단가는 중간 정도의 양의 상관관계를 보이며, 일반적으로 토핑이 많을수록 가격이 높아지는 경향이 있습니다. 다만 일부 토핑 수가 적어도 가격이 높은 제품이 존재하며, 이는 브랜드 가치나 프리미엄 원재료 사용 등의 요인이 반영된 것으로 해석됩니다.”"
   ]
  },
  {
   "cell_type": "markdown",
   "metadata": {},
   "source": []
  },
  {
   "cell_type": "markdown",
   "metadata": {},
   "source": [
    "---------------------------------------------------------------------------------"
   ]
  },
  {
   "cell_type": "markdown",
   "metadata": {},
   "source": [
    "### 효준님 Part"
   ]
  },
  {
   "cell_type": "code",
   "execution_count": null,
   "metadata": {},
   "outputs": [],
   "source": [
    "# 중복 제거된 피자 이름과 재료 목록 추출\n",
    "pizza_ingredients_count = df[['피자 이름', '피자 재료 목록']].drop_duplicates()\n",
    "\n",
    "# 재료 수 계산\n",
    "pizza_ingredients_count['재료 수'] = pizza_ingredients_count['피자 재료 목록'].apply(lambda x: len(x.split(',')))\n",
    "\n",
    "# 재료 수 기준 내림차순 정렬\n",
    "pizza_ingredients_count_sorted = pizza_ingredients_count.sort_values(by='재료 수', ascending=False)\n",
    "\n",
    "# 전체 출력\n",
    "print(pizza_ingredients_count_sorted.to_string(index=False))"
   ]
  },
  {
   "cell_type": "code",
   "execution_count": null,
   "metadata": {},
   "outputs": [],
   "source": [
    "# ✅ 재료 수 계산 (쉼표 기준 split해서 개수 세기)\n",
    "df['재료 수'] = df['피자 재료 목록'].apply(lambda x: len(x.split(',')))\n",
    "\n",
    "# ✅ 재료 수별 총 주문 수량 계산\n",
    "ingredient_group_total = df.groupby('재료 수')['주문 수량'].sum().reset_index()\n",
    "\n",
    "# ✅ 시각화\n",
    "plt.figure(figsize=(8, 5))\n",
    "sns.lineplot(data=ingredient_group_total, x='재료 수', y='주문 수량', marker='o')\n",
    "plt.title('🧂 토핑 재료 수 vs 총 주문 수량')\n",
    "plt.xlabel('토핑 재료 수')\n",
    "plt.ylabel('총 주문 수량')\n",
    "plt.grid(True)\n",
    "plt.tight_layout()\n",
    "plt.show()"
   ]
  },
  {
   "cell_type": "markdown",
   "metadata": {},
   "source": [
    "🧂 인사이트: 토핑 재료 수와 주문량 관계 분석\n",
    "📈 관찰 요약\n",
    "재료 수가 4~6개인 피자가 가장 많은 주문량을 기록함.\n",
    "\n",
    "재료 수가 2~3개인 단순한 피자는 주문량이 적은 편.\n",
    "\n",
    "7개 이상 재료를 가진 피자는 개수는 적지만 상대적으로 높은 주문량을 기록하는 경우도 존재함.\n",
    "\n",
    "🔍 분석 포인트\n",
    "재료 수\t주문 수량 특성\t해석\n",
    "1~3개\t낮은 주문 수량\t지나치게 단순한 메뉴는 선호도가 낮음\n",
    "4~6개\t주문량 최고 구간\t맛의 다양성과 적절한 가격대의 균형 가능성\n",
    "7개 이상\t다소 줄어드는 추세 or 소수 인기\t프리미엄 포지션의 가능성, 다만 너무 복잡한 재료는 호불호 존재\n",
    "\n",
    "💡 마케팅 & 제품 전략 제안\n",
    "✅ 메인 메뉴군은 4~6개 재료를 사용하는 피자로 구성\n",
    "\n",
    "→ 예: 베스트셀러, 추천메뉴, 세트 구성용\n",
    "\n",
    "✅ 단순 피자는 1인 런치용 소형 사이즈로 리포지셔닝\n",
    "\n",
    "→ 예: 저가 간편식, 배달 전용 메뉴\n",
    "\n",
    "✅ 7개 이상 재료의 피자는 프리미엄 라인업으로 별도 강조\n",
    "\n",
    "→ 예: “쉐프 스페셜”, “고급 토핑 한정 메뉴” 등\n",
    "\n",
    "✨ 활용 방안\n",
    "신메뉴 개발 시 재료 개수 타겟 범위는 4~6개로 설정\n",
    "\n",
    "재료 수에 따른 제작 원가, 소비자 인식, 프로모션 전략 연계 가능\n",
    "\n",
    "향후 재료 조합별 만족도 조사 또는 리뷰 기반 정성 분석도 고려 가능"
   ]
  },
  {
   "cell_type": "code",
   "execution_count": null,
   "metadata": {},
   "outputs": [],
   "source": [
    "# 피자 이름별로 고정 단가와 총 주문 수량 추출\n",
    "pizza_price_quantity = df.groupby('피자 이름').agg({\n",
    "    '단가': 'first',         # 고정 단가\n",
    "    '주문 수량': 'sum'       # 총 주문 수량\n",
    "}).reset_index()\n",
    "\n",
    "# 총 주문 수 기준 내림차순 정렬\n",
    "pizza_price_quantity_sorted = pizza_price_quantity.sort_values(by='주문 수량', ascending=False)\n",
    "\n",
    "# 표 출력\n",
    "print(pizza_price_quantity_sorted.to_string(index=False))"
   ]
  },
  {
   "cell_type": "code",
   "execution_count": null,
   "metadata": {},
   "outputs": [],
   "source": [
    "# 단가 구간 분류 함수\n",
    "def 가격_구간(가격):\n",
    "    if 가격 <= 14.99:\n",
    "        return '저가 (≤ $14.99)'\n",
    "    elif 15.00 <= 가격 <= 19.99:\n",
    "        return '중가 ($15.00 ~ $19.99)'\n",
    "    else:\n",
    "        return '고가 (≥ $20.00)'\n",
    "\n",
    "# 단가 기준으로 구간 분류 컬럼 추가\n",
    "df['가격 구간'] = df['단가'].apply(가격_구간)\n",
    "\n",
    "# 각 가격 구간별 총 주문 수량 계산\n",
    "price_group_summary = df.groupby('가격 구간')['주문 수량'].sum().reset_index()\n",
    "\n",
    "# 보기 좋게 가격 구간 정렬\n",
    "price_group_summary = price_group_summary.sort_values(by='주문 수량', ascending=False)\n",
    "\n",
    "# 결과 확인\n",
    "print(price_group_summary.to_string(index=False))\n"
   ]
  },
  {
   "cell_type": "code",
   "execution_count": null,
   "metadata": {},
   "outputs": [],
   "source": [
    "# 3. 구간별 **총 주문 수량** 집계 (막대차트용으로도 동일하게 사용)\n",
    "price_group_summary = df.groupby('가격 구간')['주문 수량'].sum().reset_index()\n",
    "\n",
    "# --------------- 그래프 1: 파이차트 ----------------\n",
    "plt.figure(figsize=(5, 5))\n",
    "plt.pie(price_group_summary['주문 수량'], labels=price_group_summary['가격 구간'],\n",
    "        autopct='%1.1f%%', startangle=90)\n",
    "plt.title('가격 구간별 총 주문 수량 비중 (파이차트)')\n",
    "plt.axis('equal')\n",
    "plt.tight_layout()\n",
    "plt.show()\n",
    "\n",
    "# --------------- 그래프 2: 막대차트 ----------------\n",
    "plt.figure(figsize=(7, 5))\n",
    "sns.barplot(data=price_group_summary, x='가격 구간', y='주문 수량')\n",
    "plt.title('가격 구간별 총 주문 수량 (막대차트)')\n",
    "plt.xlabel('가격 구간')\n",
    "plt.ylabel('총 주문 수량')\n",
    "plt.tight_layout()\n",
    "plt.show()\n",
    "\n",
    "# --------------- 그래프 3: 산점도 ----------------\n",
    "plt.figure(figsize=(8, 6))\n",
    "sns.scatterplot(data=df, x='단가', y='주문 수량', hue='가격 구간', palette='Set2', alpha=0.6)\n",
    "plt.title('단가 vs 주문 수량 (산점도)')\n",
    "plt.xlabel('피자 단가 ($)')\n",
    "plt.ylabel('주문 수량')\n",
    "plt.legend(title='가격 구간')\n",
    "plt.grid(True)\n",
    "plt.tight_layout()\n",
    "plt.show()\n"
   ]
  },
  {
   "cell_type": "markdown",
   "metadata": {},
   "source": [
    "🧠 1. 가격 구간별 총 주문 수량 비중 (파이차트)\n",
    "📊 그래프 요약:\n",
    "저가 (≤ $14.99) 피자가 전체 판매량의 가장 큰 비중을 차지\n",
    "\n",
    "고가 (≥ $20.00)는 상대적으로 소수\n",
    "\n",
    "🔍 인사이트:\n",
    "저가 피자가 전체 판매량의 주력 상품입니다.\n",
    "→ 단품/점심용/1인용 등으로 자주 팔리는 구조일 수 있음\n",
    "\n",
    "고가 피자 수요도 존재하지만 소수\n",
    "→ 마진율은 높을 수 있으나 수요는 제한적 → 프리미엄은 한정 판매 전략 적합\n",
    "\n",
    "🧠 2. 가격 구간별 총 주문 수량 (막대차트)\n",
    "📊 그래프 요약:\n",
    "세 구간 중 저가 피자 > 중가 피자 > 고가 피자 순으로 많이 팔림\n",
    "\n",
    "고가 피자는 판매량이 확실히 떨어짐\n",
    "\n",
    "🔍 인사이트:\n",
    "전체 수요 기반 전략에서는 중저가 라인이 핵심\n",
    "\n",
    "중가 피자도 꽤 견고한 수요가 있음 → 가족 단위/공동 소비\n",
    "\n",
    "고가 피자는 적은 수요지만 고정 고객층 가능성\n",
    "→ 브랜드 피자, 특별한 날, 고급 재료 위주 마케팅이 어울림\n",
    "\n",
    "🧠 3. 단가 vs 주문 수량 (산점도)\n",
    "📊 그래프 요약:\n",
    "단가가 낮을수록 전반적으로 주문 수량이 높은 경향\n",
    "\n",
    "고가 피자(≥$20)는 대부분 수량이 낮음 (희소하게 몇 개만 조금 팔림)\n",
    "\n",
    "🔍 인사이트:\n",
    "단가가 높아질수록 수요가 급격히 낮아지는 경향이 뚜렷\n",
    "→ 가격 민감도가 높은 시장\n",
    "\n",
    "단가를 약간 낮춰도 주문 수 증가가 기대될 수 있음\n",
    "→ $20 근처 제품은 가격 전략 조정 필요성 있음"
   ]
  },
  {
   "cell_type": "code",
   "execution_count": null,
   "metadata": {},
   "outputs": [],
   "source": [
    "# 피자 사이즈별 총 주문 수량 계산\n",
    "size_quantity = df.groupby('피자 사이즈')['주문 수량'].sum().reset_index()\n",
    "\n",
    "# 주문 수량 기준 내림차순 정렬\n",
    "size_quantity = size_quantity.sort_values(by='주문 수량', ascending=False)\n",
    "\n",
    "# 표 출력\n",
    "print(size_quantity.to_string(index=False))\n"
   ]
  },
  {
   "cell_type": "code",
   "execution_count": null,
   "metadata": {},
   "outputs": [],
   "source": [
    "# 1. 피자 사이즈별 총 주문 수량 계산 및 정렬\n",
    "size_quantity = df.groupby('피자 사이즈')['주문 수량'].sum().reset_index()\n",
    "size_quantity = size_quantity.sort_values(by='주문 수량', ascending=False)\n",
    "\n",
    "# 2. 파이차트: 사이즈별 비중\n",
    "plt.figure(figsize=(6, 6))\n",
    "plt.pie(\n",
    "    size_quantity['주문 수량'],\n",
    "    labels=size_quantity['피자 사이즈'],\n",
    "    autopct='%1.1f%%',\n",
    "    startangle=90\n",
    ")\n",
    "plt.title('📐 피자 사이즈별 주문 비중 (파이차트)')\n",
    "plt.axis('equal')\n",
    "plt.tight_layout()\n",
    "plt.show()\n",
    "\n",
    "# 3. 막대차트: 사이즈별 주문 수량\n",
    "plt.figure(figsize=(8, 5))\n",
    "sns.barplot(data=size_quantity, x='피자 사이즈', y='주문 수량', palette='Set3')\n",
    "plt.title('📐 피자 사이즈별 주문 수량 (막대차트)')\n",
    "plt.xlabel('피자 사이즈')\n",
    "plt.ylabel('총 주문 수량')\n",
    "plt.tight_layout()\n",
    "plt.show()"
   ]
  },
  {
   "cell_type": "markdown",
   "metadata": {},
   "source": [
    "가격 구간\t총 주문 수량\t비중\n",
    "중가 ($15~$19.99)\t17,986\t37.0%\n",
    "저가 (≤ $14.99)\t16,318\t33.6%\n",
    "고가 (≥ $20)\t15,270\t29.4%\n",
    "\n",
    "인사이트:\n",
    "가격대가 고르게 분포됨 → 고객층 다양\n",
    "\n",
    "중가 라인은 매출 안정화, 저가는 고객 유입, 고가는 마진 확보\n",
    "\n",
    "세 가지 라인을 전략적으로 분화하여 포지셔닝 필요"
   ]
  },
  {
   "cell_type": "code",
   "execution_count": null,
   "metadata": {},
   "outputs": [],
   "source": [
    "# 피자 종류별 주문 수량 집계\n",
    "category_quantity = df.groupby('피자 종류')['주문 수량'].sum().reset_index()\n",
    "\n",
    "# 주문 수량 기준 내림차순 정렬\n",
    "category_quantity = category_quantity.sort_values(by='주문 수량', ascending=False)\n",
    "\n",
    "# 표 출력\n",
    "print(category_quantity.to_string(index=False))"
   ]
  },
  {
   "cell_type": "code",
   "execution_count": null,
   "metadata": {},
   "outputs": [],
   "source": [
    "# 1. 피자 종류별 주문 수량 집계\n",
    "category_quantity = df.groupby('피자 종류')['주문 수량'].sum().reset_index()\n",
    "category_quantity = category_quantity.sort_values(by='주문 수량', ascending=False)\n",
    "\n",
    "# 2. 막대차트\n",
    "plt.figure(figsize=(8, 5))\n",
    "sns.barplot(data=category_quantity, x='피자 종류', y='주문 수량', palette='Set2')\n",
    "plt.title('📊 피자 종류별 주문 수량 (막대차트)')\n",
    "plt.xlabel('피자 종류')\n",
    "plt.ylabel('총 주문 수량')\n",
    "plt.tight_layout()\n",
    "plt.show()\n",
    "\n",
    "# 3. 파이차트\n",
    "plt.figure(figsize=(6, 6))\n",
    "plt.pie(\n",
    "    category_quantity['주문 수량'],\n",
    "    labels=category_quantity['피자 종류'],\n",
    "    autopct='%1.1f%%',\n",
    "    startangle=90\n",
    ")\n",
    "plt.title('📊 피자 종류별 주문 비중 (파이차트)')\n",
    "plt.axis('equal')\n",
    "plt.tight_layout()\n",
    "plt.show()"
   ]
  },
  {
   "cell_type": "markdown",
   "metadata": {},
   "source": [
    "사이즈별 판매 비중\n",
    "사이즈\t총 주문 수량\t비중 추정\n",
    "L\t18,956\t39%\n",
    "M\t15,635\t32%\n",
    "S\t14,403\t29%\n",
    "\n",
    "인사이트:\n",
    "L 사이즈가 압도적 1위 → 가족, 친구와 나눠먹는 구성 선호\n",
    "\n",
    "M, S도 비중 큼 → 1~2인 소비층도 충분히 존재\n",
    "\n",
    "대형 프로모션은 L 사이즈 중심, 소형은 점심/1인 가구 타깃"
   ]
  },
  {
   "cell_type": "code",
   "execution_count": null,
   "metadata": {},
   "outputs": [],
   "source": [
    "## 인기 피자 TOP 10 추출\n",
    "\n",
    "\n",
    "# 피자 이름별 총 주문 수량 계산\n",
    "pizza_top10 = df.groupby('피자 이름')['주문 수량'].sum().reset_index()\n",
    "\n",
    "# 주문 수량 기준 내림차순 정렬 후 상위 10개 추출\n",
    "pizza_top10 = pizza_top10.sort_values(by='주문 수량', ascending=False).head(10)\n",
    "\n",
    "# TOP 10 피자 정보 추출 (피자 이름 기준으로 원본과 merge)\n",
    "pizza_info = df.drop_duplicates(subset='피자 이름')[['피자 이름', '피자 종류', '피자 사이즈', '단가', '피자 재료 목록']]\n",
    "pizza_top10_full = pd.merge(pizza_top10, pizza_info, on='피자 이름', how='left')\n",
    "\n",
    "# 재료 수 컬럼 추가\n",
    "pizza_top10_full['재료 수'] = pizza_top10_full['피자 재료 목록'].apply(lambda x: len(x.split(',')))\n",
    "\n",
    "# 정리된 표 출력\n",
    "print(pizza_top10_full.to_string(index=False))"
   ]
  },
  {
   "cell_type": "code",
   "execution_count": null,
   "metadata": {},
   "outputs": [],
   "source": [
    "##단가/재료/사이즈/카테고리별 피자 효율 분석\n",
    "\n",
    "# 피자 이름별 평균 주문 수량 계산\n",
    "pizza_summary = df.groupby('피자 이름')['주문 수량'].mean().reset_index()\n",
    "\n",
    "# 고유 피자 정보 병합 (중복 제거)\n",
    "pizza_info_full = df.drop_duplicates(subset='피자 이름')[['피자 이름', '단가', '피자 사이즈', '피자 종류', '피자 재료 목록']]\n",
    "\n",
    "# 재료 수 컬럼 추가\n",
    "pizza_info_full['재료 수'] = pizza_info_full['피자 재료 목록'].apply(lambda x: len(x.split(',')))\n",
    "\n",
    "# 병합: 피자별 요약 테이블\n",
    "pizza_efficiency = pd.merge(pizza_summary, pizza_info_full, on='피자 이름', how='left')\n",
    "\n",
    "# 주문 수량 기준 정렬\n",
    "pizza_efficiency = pizza_efficiency.sort_values(by='주문 수량', ascending=False)\n",
    "\n",
    "# 표 출력\n",
    "print(pizza_efficiency.to_string(index=False))"
   ]
  },
  {
   "cell_type": "code",
   "execution_count": null,
   "metadata": {},
   "outputs": [],
   "source": [
    "## 어떤 토핑이 제일 많이 들어갔을까\n",
    "\n",
    "from collections import Counter\n",
    "\n",
    "# 모든 피자의 재료 목록을 하나의 리스트로 펼치기\n",
    "all_ingredients = df['피자 재료 목록'].apply(lambda x: [i.strip() for i in x.split(',')])\n",
    "flat_list = [ingredient for sublist in all_ingredients for ingredient in sublist]\n",
    "\n",
    "# 재료별 등장 횟수 카운트\n",
    "ingredient_counts = Counter(flat_list)\n",
    "\n",
    "# DataFrame으로 정리\n",
    "ingredient_df = pd.DataFrame(ingredient_counts.items(), columns=['재료명', '등장 횟수'])\n",
    "\n",
    "# 등장 횟수 기준 내림차순 정렬\n",
    "ingredient_df = ingredient_df.sort_values(by='등장 횟수', ascending=False).reset_index(drop=True)\n",
    "\n",
    "# 표 출력\n",
    "print(ingredient_df.to_string(index=False))\n"
   ]
  },
  {
   "cell_type": "markdown",
   "metadata": {},
   "source": [
    "토핑 재료 등장 순위 TOP 10\n",
    "재료명\t등장 횟수\t포지션\n",
    "Garlic\t27,422\t거의 모든 피자 기본\n",
    "Tomatoes\t26,601\t소스/재료 전방위 활용\n",
    "Red Onions\t19,547\t중간 토핑\n",
    "Red Peppers\t16,284\t상단 토핑\n",
    "Mozzarella Cheese\t10,333\t핵심 치즈\n",
    "Pepperoni\t10,300\t고기 토핑 대표\n",
    "\n",
    "인사이트:\n",
    "마늘, 토마토, 양파는 핵심 베이스 → 공급 안정성과 원가 관리 필요\n",
    "\n",
    "페퍼로니, 치즈는 고급 피자 핵심 토핑\n",
    "\n",
    "재료 등장 순서를 바탕으로 공통 베이스 피자 조합 (예: 마늘+토마토+치즈) 개발 가능"
   ]
  },
  {
   "cell_type": "markdown",
   "metadata": {},
   "source": [
    " 종합 마케팅/제품 전략 제안\n",
    "전략 영역\t제안 내용\n",
    "제품 개발\t- 인기 재료 기반 베이스 조합 최적화\n",
    "- Veggie 시리즈 라인 확장 (건강식/비건 타깃)\n",
    "- M사이즈 중심 점심 전용 메뉴 개발\n",
    "메뉴 포지션\t- 중가 Classic & Veggie 중심\n",
    "- 고가 프리미엄은 한정판/특별 테마로 고정비 방지\n",
    "마케팅\t- \"건강한 채식 피자도 맛있다!\" 테마\n",
    "- \"한 판이면 충분해\" L사이즈 강조\n",
    "- \"우리의 베이스는 다르다\" 핵심 재료 강조형 캠페인\n",
    "공급전략\t- Garlic, Tomatoes, Onion은 계약재배 or 대량구매로 원가 절감\n",
    "- 페퍼로니/치즈는 프리미엄 라인 전용으로 분리 관리"
   ]
  },
  {
   "cell_type": "code",
   "execution_count": null,
   "metadata": {},
   "outputs": [],
   "source": [
    "# 1. 피자 이름별 단가 + 총 주문 수량\n",
    "#pizza_price_quantity_sorted.to_csv('피자_별_단가_및_총_주문수량.csv', index=False, encoding='utf-8-sig')\n",
    "\n",
    "# 2. 가격 구간별 총 주문 수량\n",
    "#price_group_summary.to_csv('가격_구간별_총_주문수량.csv', index=False, encoding='utf-8-sig')\n",
    "\n",
    "# 3. 토핑 재료 수 vs 총 주문 수량\n",
    "#ingredient_group_total.to_csv('재료수_별_총_주문수량.csv', index=False, encoding='utf-8-sig')\n",
    "\n",
    "# 4. 피자 이름별 재료 수\n",
    "#ingredient_count_sorted.to_csv('피자_별_재료_수.csv', index=False, encoding='utf-8-sig')\n",
    "\n",
    "# 5. 토핑 종류별 등장 횟수\n",
    "#topping_count_df.to_csv('토핑_종류별_등장횟수.csv', index=False, encoding='utf-8-sig')\n"
   ]
  },
  {
   "cell_type": "code",
   "execution_count": null,
   "metadata": {},
   "outputs": [],
   "source": [
    "# 피자 이름별로 토핑 재료 수 계산\n",
    "ingredient_count = df.groupby('피자 이름')['피자 재료 목록'].first().apply(lambda x: len(x.split(','))).reset_index()\n",
    "ingredient_count.columns = ['피자 이름', '재료 수']\n",
    "\n",
    "# 재료 수 기준으로 정렬\n",
    "ingredient_count_sorted = ingredient_count.sort_values(by='재료 수', ascending=False)\n"
   ]
  },
  {
   "cell_type": "code",
   "execution_count": null,
   "metadata": {},
   "outputs": [],
   "source": [
    "# 모든 피자의 재료 리스트 합치고, 재료별 등장 횟수 세기\n",
    "from collections import Counter\n",
    "topping_series = df['피자 재료 목록'].str.split(',').explode().str.strip()\n",
    "topping_counts = Counter(topping_series)\n",
    "topping_count_df = pd.DataFrame(topping_counts.items(), columns=['토핑', '등장 횟수']).sort_values(by='등장 횟수', ascending=False)"
   ]
  },
  {
   "cell_type": "markdown",
   "metadata": {},
   "source": [
    "---------------------------------------------------------------------------------"
   ]
  },
  {
   "cell_type": "markdown",
   "metadata": {},
   "source": [
    "### 설연님 Part \n",
    ": 컬럼명 달라서 다른 파일로 봐야함"
   ]
  },
  {
   "cell_type": "markdown",
   "metadata": {},
   "source": [
    "---------------------------------------------------------------------------------"
   ]
  },
  {
   "cell_type": "markdown",
   "metadata": {},
   "source": [
    "### 현석님 Part"
   ]
  },
  {
   "cell_type": "code",
   "execution_count": null,
   "metadata": {},
   "outputs": [],
   "source": []
  },
  {
   "cell_type": "code",
   "execution_count": null,
   "metadata": {},
   "outputs": [],
   "source": []
  },
  {
   "cell_type": "markdown",
   "metadata": {},
   "source": [
    "---------------------------------------------------------------------------------"
   ]
  },
  {
   "cell_type": "markdown",
   "metadata": {},
   "source": [
    "### 혜원님 Part"
   ]
  },
  {
   "cell_type": "markdown",
   "metadata": {},
   "source": []
  }
 ],
 "metadata": {
  "kernelspec": {
   "display_name": "base",
   "language": "python",
   "name": "python3"
  },
  "language_info": {
   "codemirror_mode": {
    "name": "ipython",
    "version": 3
   },
   "file_extension": ".py",
   "mimetype": "text/x-python",
   "name": "python",
   "nbconvert_exporter": "python",
   "pygments_lexer": "ipython3",
   "version": "3.12.4"
  }
 },
 "nbformat": 4,
 "nbformat_minor": 2
}
